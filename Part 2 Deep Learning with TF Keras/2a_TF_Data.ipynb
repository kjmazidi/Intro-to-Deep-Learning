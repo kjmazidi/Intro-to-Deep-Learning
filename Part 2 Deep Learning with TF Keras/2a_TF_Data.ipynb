{
 "cells": [
  {
   "cell_type": "markdown",
   "source": [
    "## Data representations for neural networks\n",
    "**Author:** Karen Mazidi\n",
    "**Date:** 11.4.2021\n",
    "\n",
    "NumPy arrays can be used as input data in TensorFlow. We can also use Tensorflow tensors as input. \n",
    "\n",
    "However, there are some advantages of Tensors over arrays:\n",
    "\n",
    "* tensors are immutable which makes for faster architecture\n",
    "* highly optimized under the hood\n",
    "* tensors make parallelization easier because they can reside in GPU memory\n",
    "* tensors support autodifferentiation\n",
    "* models using tensors can be written for TF Light on mobile devices\n",
    "\n",
    "\n",
    "#### Attributes\n",
    "\n",
    "NumPy arrays and TF tensors are known by their shape or rank, as well as their data types. \n",
    "\n",
    "### TF variables and constants\n",
    "\n",
    "tf.constant creates a tensor from a tensor-like object\n",
    "\n",
    "```\n",
    "tf.constant(value, dtype-None, shape=None, name='Const')\n",
    "```\n",
    "\n",
    "This constructor performs essentially the same functionality as tf.convert_to_tensor. \n",
    "\n",
    "The dtype and shape will be inferred from the value if they are not specified. \n",
    "\n",
    "tf.Variable must be initialized when constructed. The initial value defines the type and shape of the variable. The type and shape cannot be changed but the value can. Construct:\n",
    "\n",
    "```\n",
    "tf.Variable(initial_value=None, trainable=None, dtype=None)\n",
    "```\n",
    "\n",
    "### TF Tensors\n",
    "\n",
    "A key difference between tf.Variable and tf.Tensor is that tensors are immutable and variables are variable. If you perform an operation on a tensor, a  new tensor is returned, rather than updating the tensor in place.\n",
    "\n",
    "Read more about tensors [in the docs](https://www.tensorflow.org/guide/tensor)\n",
    "\n",
    "\n",
    "\n",
    "\n",
    "\n",
    "\n"
   ],
   "metadata": {
    "id": "PkgpP5vA3PpE"
   }
  },
  {
   "cell_type": "markdown",
   "source": [
    "### Scalars (rank-0 tensors)"
   ],
   "metadata": {
    "id": "q7QVpVbM3PpF"
   }
  },
  {
   "cell_type": "code",
   "source": [
    "import numpy as np\n",
    "import tensorflow as tf"
   ],
   "outputs": [],
   "execution_count": 1,
   "metadata": {
    "id": "UMhV8tw-8ZXM",
    "execution": {
     "iopub.status.busy": "2021-11-07T12:37:10.328Z",
     "iopub.execute_input": "2021-11-07T12:37:10.335Z",
     "iopub.status.idle": "2021-11-07T12:37:13.609Z",
     "shell.execute_reply": "2021-11-07T12:37:13.687Z"
    }
   }
  },
  {
   "cell_type": "code",
   "source": [
    "# numpy\n",
    "\n",
    "arr0 = np.array(42)\n",
    "print('shape=', arr0.shape)"
   ],
   "outputs": [
    {
     "output_type": "stream",
     "name": "stdout",
     "text": [
      "shape= ()\n"
     ]
    }
   ],
   "execution_count": null,
   "metadata": {
    "colab": {
     "base_uri": "https://localhost:8080/"
    },
    "id": "b737_TZi3PpF",
    "executionInfo": {
     "status": "ok",
     "timestamp": 1636046096006,
     "user_tz": 300,
     "elapsed": 185,
     "user": {
      "displayName": "Karen Janice Mazidi",
      "photoUrl": "https://lh3.googleusercontent.com/a-/AOh14GiRxWMd1kdCCDAxi9gcTgAt8fOYqu1fFKGVTIWH8g=s64",
      "userId": "15149885104950584541"
     }
    },
    "outputId": "38bf078f-3a06-4e0f-d2de-fc77cc83367a"
   }
  },
  {
   "cell_type": "code",
   "source": [
    "# TF\n",
    "\n",
    "t0 = tf.constant(0)\n",
    "print('shape=', t0.shape)"
   ],
   "outputs": [
    {
     "output_type": "stream",
     "name": "stdout",
     "text": [
      "shape= ()\n"
     ]
    }
   ],
   "execution_count": null,
   "metadata": {
    "colab": {
     "base_uri": "https://localhost:8080/"
    },
    "id": "t1qb81q33PpH",
    "executionInfo": {
     "status": "ok",
     "timestamp": 1636046202029,
     "user_tz": 300,
     "elapsed": 281,
     "user": {
      "displayName": "Karen Janice Mazidi",
      "photoUrl": "https://lh3.googleusercontent.com/a-/AOh14GiRxWMd1kdCCDAxi9gcTgAt8fOYqu1fFKGVTIWH8g=s64",
      "userId": "15149885104950584541"
     }
    },
    "outputId": "aa4f54e6-2133-4b33-94a8-1435b6ee1f97"
   }
  },
  {
   "cell_type": "code",
   "source": [
    "# note this is different from:\n",
    "\n",
    "tf.constant([0]).shape"
   ],
   "outputs": [
    {
     "output_type": "execute_result",
     "execution_count": 7,
     "data": {
      "text/plain": "TensorShape([1])"
     },
     "metadata": {}
    }
   ],
   "execution_count": null,
   "metadata": {
    "pycharm": {
     "name": "#%%\n"
    },
    "colab": {
     "base_uri": "https://localhost:8080/"
    },
    "id": "YBGPOcPz3PpH",
    "executionInfo": {
     "status": "ok",
     "timestamp": 1636046228301,
     "user_tz": 300,
     "elapsed": 196,
     "user": {
      "displayName": "Karen Janice Mazidi",
      "photoUrl": "https://lh3.googleusercontent.com/a-/AOh14GiRxWMd1kdCCDAxi9gcTgAt8fOYqu1fFKGVTIWH8g=s64",
      "userId": "15149885104950584541"
     }
    },
    "outputId": "727dad1f-35df-4892-9d2b-3449341f1136"
   }
  },
  {
   "cell_type": "markdown",
   "source": [
    "### Vectors (rank-1 tensors)\n",
    "\n",
    "Both NumPy and TF will infer the data type from the data unless you specify parameter data=)"
   ],
   "metadata": {
    "id": "pKS52Dcx3PpH"
   }
  },
  {
   "cell_type": "code",
   "source": [
    "arr1 = np.array([1, 2, 3])\n",
    "arr1\n",
    "print('shape=', arr1.shape)\n",
    "print('type=', arr1.dtype)"
   ],
   "outputs": [
    {
     "output_type": "stream",
     "name": "stdout",
     "text": [
      "shape= (3,)\n",
      "type= int64\n"
     ]
    }
   ],
   "execution_count": null,
   "metadata": {
    "colab": {
     "base_uri": "https://localhost:8080/"
    },
    "id": "PVgqyCHu3PpI",
    "executionInfo": {
     "status": "ok",
     "timestamp": 1636046401909,
     "user_tz": 300,
     "elapsed": 221,
     "user": {
      "displayName": "Karen Janice Mazidi",
      "photoUrl": "https://lh3.googleusercontent.com/a-/AOh14GiRxWMd1kdCCDAxi9gcTgAt8fOYqu1fFKGVTIWH8g=s64",
      "userId": "15149885104950584541"
     }
    },
    "outputId": "78dcf7a5-5bb0-4bf6-a5df-da38c4545fa6"
   }
  },
  {
   "cell_type": "code",
   "source": [
    "t1 = tf.constant([1, 2, 3.0])\n",
    "print('shape=', t1.shape)\n",
    "print('type=', t1.dtype)"
   ],
   "outputs": [
    {
     "output_type": "stream",
     "name": "stdout",
     "text": [
      "shape= (3,)\n",
      "type= <dtype: 'float32'>\n"
     ]
    }
   ],
   "execution_count": null,
   "metadata": {
    "colab": {
     "base_uri": "https://localhost:8080/"
    },
    "id": "UnE45yby3PpI",
    "executionInfo": {
     "status": "ok",
     "timestamp": 1636046387265,
     "user_tz": 300,
     "elapsed": 225,
     "user": {
      "displayName": "Karen Janice Mazidi",
      "photoUrl": "https://lh3.googleusercontent.com/a-/AOh14GiRxWMd1kdCCDAxi9gcTgAt8fOYqu1fFKGVTIWH8g=s64",
      "userId": "15149885104950584541"
     }
    },
    "outputId": "9249d1f1-5b42-4685-cfc6-cdc2168c527f"
   }
  },
  {
   "cell_type": "markdown",
   "source": [
    "### Matrices (rank-2 tensors)\n",
    "\n",
    "NumPy supports reshaping. With TF, we can specify the shape as we create the tensor. \n",
    "\n",
    "Both have the ndim attribute. "
   ],
   "metadata": {
    "id": "-mhOmlXS3PpJ"
   }
  },
  {
   "cell_type": "code",
   "source": [
    "x = np.array(range(10), dtype=float)\n",
    "arr2 = x.reshape(5, 2)\n",
    "print(arr2)\n",
    "print('ndim=', arr2.ndim)"
   ],
   "outputs": [
    {
     "output_type": "stream",
     "name": "stdout",
     "text": [
      "[[0. 1.]\n",
      " [2. 3.]\n",
      " [4. 5.]\n",
      " [6. 7.]\n",
      " [8. 9.]]\n",
      "ndim= 2\n"
     ]
    }
   ],
   "execution_count": null,
   "metadata": {
    "colab": {
     "base_uri": "https://localhost:8080/"
    },
    "id": "_orw2T5h3PpJ",
    "executionInfo": {
     "status": "ok",
     "timestamp": 1636046702854,
     "user_tz": 300,
     "elapsed": 246,
     "user": {
      "displayName": "Karen Janice Mazidi",
      "photoUrl": "https://lh3.googleusercontent.com/a-/AOh14GiRxWMd1kdCCDAxi9gcTgAt8fOYqu1fFKGVTIWH8g=s64",
      "userId": "15149885104950584541"
     }
    },
    "outputId": "878d993c-af2b-413f-de73-c019ef22d9d0"
   }
  },
  {
   "cell_type": "code",
   "source": [
    "t2 = tf.constant(x, shape=(5, 2))\n",
    "print(t2)\n",
    "print('ndim=', t2.ndim)"
   ],
   "outputs": [
    {
     "output_type": "stream",
     "name": "stdout",
     "text": [
      "tf.Tensor(\n",
      "[[0. 1.]\n",
      " [2. 3.]\n",
      " [4. 5.]\n",
      " [6. 7.]\n",
      " [8. 9.]], shape=(5, 2), dtype=float64)\n",
      "ndim= 2\n"
     ]
    }
   ],
   "execution_count": null,
   "metadata": {
    "colab": {
     "base_uri": "https://localhost:8080/"
    },
    "id": "F47kEqh6-Yjy",
    "executionInfo": {
     "status": "ok",
     "timestamp": 1636046725920,
     "user_tz": 300,
     "elapsed": 203,
     "user": {
      "displayName": "Karen Janice Mazidi",
      "photoUrl": "https://lh3.googleusercontent.com/a-/AOh14GiRxWMd1kdCCDAxi9gcTgAt8fOYqu1fFKGVTIWH8g=s64",
      "userId": "15149885104950584541"
     }
    },
    "outputId": "d0137f7d-5f41-47f9-f978-88f83f26474b"
   }
  },
  {
   "cell_type": "markdown",
   "source": [
    "### Rank-3 and higher-rank tensors\n",
    "\n",
    "With the dtype parameter in both, you can specify float or int. If you want a specific size, use quotes around the type. "
   ],
   "metadata": {
    "id": "udqvtbUb3PpK"
   }
  },
  {
   "cell_type": "code",
   "source": [
    "x = np.array(range(1,31), dtype='float32')\n",
    "arr3 = x.reshape(2, 3, 5)\n",
    "print(arr3)\n",
    "print('type=', arr3.dtype)\n",
    "print('ndim=', arr3.ndim)"
   ],
   "outputs": [
    {
     "output_type": "stream",
     "name": "stdout",
     "text": [
      "[[[ 1.  2.  3.  4.  5.]\n",
      "  [ 6.  7.  8.  9. 10.]\n",
      "  [11. 12. 13. 14. 15.]]\n",
      "\n",
      " [[16. 17. 18. 19. 20.]\n",
      "  [21. 22. 23. 24. 25.]\n",
      "  [26. 27. 28. 29. 30.]]]\n",
      "type= float32\n",
      "ndim= 3\n"
     ]
    }
   ],
   "execution_count": null,
   "metadata": {
    "colab": {
     "base_uri": "https://localhost:8080/"
    },
    "id": "pxog7Pl23PpK",
    "executionInfo": {
     "status": "ok",
     "timestamp": 1636047087803,
     "user_tz": 300,
     "elapsed": 197,
     "user": {
      "displayName": "Karen Janice Mazidi",
      "photoUrl": "https://lh3.googleusercontent.com/a-/AOh14GiRxWMd1kdCCDAxi9gcTgAt8fOYqu1fFKGVTIWH8g=s64",
      "userId": "15149885104950584541"
     }
    },
    "outputId": "47278834-5e2d-4cc0-d745-671c07e43645"
   }
  },
  {
   "cell_type": "code",
   "source": [
    "t3 = tf.constant(x, shape=(2,3,5), dtype='float64')\n",
    "print(t3)\n",
    "print('ndim=', t3.ndim)\n",
    "print('type=', arr3.dtype)"
   ],
   "outputs": [
    {
     "output_type": "stream",
     "name": "stdout",
     "text": [
      "tf.Tensor(\n",
      "[[[ 1.  2.  3.  4.  5.]\n",
      "  [ 6.  7.  8.  9. 10.]\n",
      "  [11. 12. 13. 14. 15.]]\n",
      "\n",
      " [[16. 17. 18. 19. 20.]\n",
      "  [21. 22. 23. 24. 25.]\n",
      "  [26. 27. 28. 29. 30.]]], shape=(2, 3, 5), dtype=float64)\n",
      "ndim= 3\n",
      "type= float64\n"
     ]
    }
   ],
   "execution_count": null,
   "metadata": {
    "colab": {
     "base_uri": "https://localhost:8080/"
    },
    "id": "WU9Sp52t_kDq",
    "executionInfo": {
     "status": "ok",
     "timestamp": 1636047055104,
     "user_tz": 300,
     "elapsed": 195,
     "user": {
      "displayName": "Karen Janice Mazidi",
      "photoUrl": "https://lh3.googleusercontent.com/a-/AOh14GiRxWMd1kdCCDAxi9gcTgAt8fOYqu1fFKGVTIWH8g=s64",
      "userId": "15149885104950584541"
     }
    },
    "outputId": "ba1c1f50-d90a-40b9-c1dc-15b363b7b5e1"
   }
  },
  {
   "cell_type": "markdown",
   "source": [
    "\n",
    "\n",
    "### Size\n",
    "\n",
    "The size attribute gives the number of elements.\n",
    "\n",
    "Notice that you have to convert the tensor to numpy to get the size.\n"
   ],
   "metadata": {
    "id": "ECRrRk3r3PpM"
   }
  },
  {
   "cell_type": "code",
   "source": [
    "arr2.size"
   ],
   "outputs": [
    {
     "output_type": "execute_result",
     "execution_count": 46,
     "data": {
      "text/plain": "10"
     },
     "metadata": {}
    }
   ],
   "execution_count": null,
   "metadata": {
    "colab": {
     "base_uri": "https://localhost:8080/"
    },
    "id": "iEIYIZhNBkF5",
    "executionInfo": {
     "status": "ok",
     "timestamp": 1636047415122,
     "user_tz": 300,
     "elapsed": 215,
     "user": {
      "displayName": "Karen Janice Mazidi",
      "photoUrl": "https://lh3.googleusercontent.com/a-/AOh14GiRxWMd1kdCCDAxi9gcTgAt8fOYqu1fFKGVTIWH8g=s64",
      "userId": "15149885104950584541"
     }
    },
    "outputId": "e6f1c427-336c-47ff-dba2-2a014262a47b"
   }
  },
  {
   "cell_type": "code",
   "source": [
    "tf.size(t2).numpy()"
   ],
   "outputs": [
    {
     "output_type": "execute_result",
     "execution_count": 48,
     "data": {
      "text/plain": "10"
     },
     "metadata": {}
    }
   ],
   "execution_count": null,
   "metadata": {
    "colab": {
     "base_uri": "https://localhost:8080/"
    },
    "id": "LdZqx9CVBnM_",
    "executionInfo": {
     "status": "ok",
     "timestamp": 1636047479973,
     "user_tz": 300,
     "elapsed": 206,
     "user": {
      "displayName": "Karen Janice Mazidi",
      "photoUrl": "https://lh3.googleusercontent.com/a-/AOh14GiRxWMd1kdCCDAxi9gcTgAt8fOYqu1fFKGVTIWH8g=s64",
      "userId": "15149885104950584541"
     }
    },
    "outputId": "c481d04e-9a8e-45dc-834b-c63546a99ee4"
   }
  },
  {
   "cell_type": "markdown",
   "source": [
    "### Converting\n",
    "\n",
    "Convert between NumPy and TF is possible as shown below:"
   ],
   "metadata": {
    "id": "b8feknFp3PpK"
   }
  },
  {
   "cell_type": "code",
   "source": [
    "arr = t3.numpy()\n",
    "type(arr)"
   ],
   "outputs": [
    {
     "output_type": "execute_result",
     "execution_count": 44,
     "data": {
      "text/plain": "numpy.ndarray"
     },
     "metadata": {}
    }
   ],
   "execution_count": null,
   "metadata": {
    "colab": {
     "base_uri": "https://localhost:8080/"
    },
    "id": "Fcn-jMCAA0jM",
    "executionInfo": {
     "status": "ok",
     "timestamp": 1636047293961,
     "user_tz": 300,
     "elapsed": 206,
     "user": {
      "displayName": "Karen Janice Mazidi",
      "photoUrl": "https://lh3.googleusercontent.com/a-/AOh14GiRxWMd1kdCCDAxi9gcTgAt8fOYqu1fFKGVTIWH8g=s64",
      "userId": "15149885104950584541"
     }
    },
    "outputId": "96303a29-e6d0-4213-bf7e-a4967ba851b4"
   }
  },
  {
   "cell_type": "code",
   "source": [
    "t = tf.convert_to_tensor(arr)\n",
    "type(t)"
   ],
   "outputs": [
    {
     "output_type": "execute_result",
     "execution_count": 45,
     "data": {
      "text/plain": "tensorflow.python.framework.ops.EagerTensor"
     },
     "metadata": {}
    }
   ],
   "execution_count": null,
   "metadata": {
    "colab": {
     "base_uri": "https://localhost:8080/"
    },
    "id": "Hkf6n94UBKTR",
    "executionInfo": {
     "status": "ok",
     "timestamp": 1636047362059,
     "user_tz": 300,
     "elapsed": 214,
     "user": {
      "displayName": "Karen Janice Mazidi",
      "photoUrl": "https://lh3.googleusercontent.com/a-/AOh14GiRxWMd1kdCCDAxi9gcTgAt8fOYqu1fFKGVTIWH8g=s64",
      "userId": "15149885104950584541"
     }
    },
    "outputId": "a6623cba-989b-4d72-de1f-ffebb803f5ec"
   }
  },
  {
   "cell_type": "markdown",
   "source": [
    "### More about tf.Variable"
   ],
   "metadata": {
    "nteract": {
     "transient": {
      "deleting": false
     }
    }
   }
  },
  {
   "cell_type": "code",
   "source": [
    "v = tf.Variable([1, 2, 3])\n",
    "v"
   ],
   "outputs": [
    {
     "output_type": "execute_result",
     "execution_count": 2,
     "data": {
      "text/plain": "<tf.Variable 'Variable:0' shape=(3,) dtype=int32_ref>"
     },
     "metadata": {}
    }
   ],
   "execution_count": 2,
   "metadata": {
    "collapsed": true,
    "jupyter": {
     "source_hidden": false,
     "outputs_hidden": false
    },
    "nteract": {
     "transient": {
      "deleting": false
     }
    },
    "execution": {
     "iopub.status.busy": "2021-11-07T12:37:14.513Z",
     "iopub.execute_input": "2021-11-07T12:37:14.520Z",
     "iopub.status.idle": "2021-11-07T12:37:14.559Z",
     "shell.execute_reply": "2021-11-07T12:37:14.568Z"
    }
   }
  },
  {
   "cell_type": "code",
   "source": [
    "w = tf.Variable([[1.], [2.]])\n",
    "x = tf.constant([[3., 4.]])\n",
    "tf.matmul(w, x)\n"
   ],
   "outputs": [
    {
     "output_type": "execute_result",
     "execution_count": 8,
     "data": {
      "text/plain": "<tf.Tensor 'MatMul_3:0' shape=(2, 2) dtype=float32>"
     },
     "metadata": {}
    }
   ],
   "execution_count": 8,
   "metadata": {
    "collapsed": true,
    "jupyter": {
     "source_hidden": false,
     "outputs_hidden": false
    },
    "nteract": {
     "transient": {
      "deleting": false
     }
    },
    "execution": {
     "iopub.status.busy": "2021-11-07T12:40:10.114Z",
     "iopub.execute_input": "2021-11-07T12:40:10.121Z",
     "iopub.status.idle": "2021-11-07T12:40:10.136Z",
     "shell.execute_reply": "2021-11-07T12:40:10.143Z"
    }
   }
  },
  {
   "cell_type": "code",
   "source": [
    "tf.sigmoid(w + x)"
   ],
   "outputs": [
    {
     "output_type": "execute_result",
     "execution_count": 9,
     "data": {
      "text/plain": "<tf.Tensor 'Sigmoid:0' shape=(2, 2) dtype=float32>"
     },
     "metadata": {}
    }
   ],
   "execution_count": 9,
   "metadata": {
    "collapsed": true,
    "jupyter": {
     "source_hidden": false,
     "outputs_hidden": false
    },
    "nteract": {
     "transient": {
      "deleting": false
     }
    },
    "execution": {
     "iopub.status.busy": "2021-11-07T12:40:51.376Z",
     "iopub.execute_input": "2021-11-07T12:40:51.386Z",
     "iopub.status.idle": "2021-11-07T12:40:51.406Z",
     "shell.execute_reply": "2021-11-07T12:40:51.416Z"
    }
   }
  },
  {
   "cell_type": "markdown",
   "source": [
    "### Explore low-level functions of TensorFlow\n",
    "\n",
    "Using TensorFlow to create a network involves first defining the \"graph\", the inputs and outputs, then executing the graph.\n",
    "\n",
    "#### Eager execution\n",
    "\n",
    "TensorFlow 2 uses imperative execution, meaning that defining the graph and execution happen at the same time. This is also called Eager execution.\n",
    "\n",
    "#### AutoGraph and @tf.function\n",
    "\n",
    "Notice the @tf.function decorator below. A decorator is a wrapper for a function that can alter the function's behavior before or after it executes.\n",
    "\n",
    "In the code below, the @tf.function decorator will turn the function actions into a data-flow graph. This is called AutoGraph. Read more [in the docs](https://www.tensorflow.org/guide/function#autograph_transformations)\n",
    "\n",
    "See p. 21 of TensorFlow 2.0 in Action\n",
    "\n",
    "![Network](network.png)"
   ],
   "metadata": {
    "collapsed": false,
    "pycharm": {
     "name": "#%% md\n"
    }
   }
  },
  {
   "cell_type": "code",
   "source": [
    "\n",
    "@tf.function\n",
    "def forward(x, W, b, act):\n",
    "  \"\"\" Encapsulates the computations of a single layer in a multilayer perceptron \"\"\"\n",
    "  return act(tf.matmul(x,W)+b)\n",
    "\n",
    "# Input (numpy array)\n",
    "x = np.random.normal(size=[1,4]).astype('float32')\n",
    "\n",
    "# Variable initializer\n",
    "init = tf.keras.initializers.RandomNormal()\n",
    "\n",
    "# Defining layer 1 variables\n",
    "w1 = tf.Variable(init(shape=[4,3]))\n",
    "b1 = tf.Variable(init(shape=[1,3]))\n",
    "\n",
    "# Defining layer 2 variables\n",
    "w2 = tf.Variable(init(shape=[3,2]))\n",
    "b2 = tf.Variable(init(shape=[1,2]))\n",
    "\n",
    "# Computing h\n",
    "h = forward(x, w1, b1, tf.nn.sigmoid)\n",
    "\n",
    "# Computing y\n",
    "y = forward(h, w2, b2, tf.nn.softmax)\n",
    "\n",
    "print(y)\n",
    "\n"
   ],
   "outputs": [
    {
     "name": "stdout",
     "output_type": "stream",
     "text": [
      "tf.Tensor([[0.45918176 0.5408183 ]], shape=(1, 2), dtype=float32)\n"
     ]
    }
   ],
   "execution_count": 12,
   "metadata": {
    "collapsed": true,
    "jupyter": {
     "source_hidden": false,
     "outputs_hidden": false
    },
    "nteract": {
     "transient": {
      "deleting": false
     }
    },
    "execution": {
     "iopub.status.busy": "2021-11-07T12:49:34.562Z",
     "iopub.execute_input": "2021-11-07T12:49:34.571Z",
     "iopub.status.idle": "2021-11-07T12:45:21.626Z",
     "shell.execute_reply": "2021-11-07T12:45:21.634Z"
    }
   }
  },
  {
   "cell_type": "code",
   "execution_count": null,
   "outputs": [],
   "source": [],
   "metadata": {
    "collapsed": false,
    "pycharm": {
     "name": "#%%\n"
    }
   }
  }
 ],
 "metadata": {
  "colab": {
   "name": "1a_Data_Preparation.ipynb",
   "provenance": [],
   "collapsed_sections": []
  },
  "kernelspec": {
   "display_name": "Python 3",
   "language": "python",
   "name": "python3"
  },
  "language_info": {
   "name": "python",
   "version": "3.7.3",
   "mimetype": "text/x-python",
   "codemirror_mode": {
    "name": "ipython",
    "version": 3
   },
   "pygments_lexer": "ipython3",
   "nbconvert_exporter": "python",
   "file_extension": ".py"
  },
  "nteract": {
   "version": "0.28.0"
  }
 },
 "nbformat": 4,
 "nbformat_minor": 0
}